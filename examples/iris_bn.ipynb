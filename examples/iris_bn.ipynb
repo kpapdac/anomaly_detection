{
 "cells": [
  {
   "cell_type": "code",
   "execution_count": 1,
   "id": "33b54771",
   "metadata": {},
   "outputs": [
    {
     "name": "stdout",
     "output_type": "stream",
     "text": [
      "BN{nodes: 0, arcs: 0, domainSize: 1, dim: 0}\n"
     ]
    }
   ],
   "source": [
    "from pylab import *\n",
    "import pandas as pd\n",
    "import matplotlib.pyplot as plt\n",
    "import os\n",
    "import pyAgrum as gum\n",
    "bn=gum.BayesNet('WaterSprinkler')\n",
    "print(bn)"
   ]
  },
  {
   "cell_type": "code",
   "execution_count": 2,
   "id": "7ce2ab11",
   "metadata": {},
   "outputs": [
    {
     "name": "stdout",
     "output_type": "stream",
     "text": [
      "0\n"
     ]
    }
   ],
   "source": [
    "c=bn.add(gum.LabelizedVariable('c','cloudy ?',2))\n",
    "print(c)"
   ]
  },
  {
   "cell_type": "code",
   "execution_count": 3,
   "id": "e70e1169",
   "metadata": {},
   "outputs": [
    {
     "name": "stdout",
     "output_type": "stream",
     "text": [
      "1 2 3\n",
      "BN{nodes: 4, arcs: 0, domainSize: 16, dim: 8}\n"
     ]
    }
   ],
   "source": [
    "s, r, w = [ bn.add(name, 2) for name in \"srw\" ] #bn.add(name, 2) === bn.add(gum.LabelizedVariable(name, name, 2))\n",
    "print (s,r,w)\n",
    "print (bn)"
   ]
  },
  {
   "cell_type": "code",
   "execution_count": 4,
   "id": "466a620e",
   "metadata": {},
   "outputs": [],
   "source": [
    "bn.addArc(c,s)"
   ]
  },
  {
   "cell_type": "code",
   "execution_count": 5,
   "id": "e19a0981",
   "metadata": {},
   "outputs": [
    {
     "name": "stdout",
     "output_type": "stream",
     "text": [
      "BN{nodes: 4, arcs: 4, domainSize: 16, dim: 18}\n"
     ]
    }
   ],
   "source": [
    "for link in [(c,r),(s,w),(r,w)]:\n",
    "    bn.addArc(*link)\n",
    "print(bn)"
   ]
  },
  {
   "cell_type": "code",
   "execution_count": 6,
   "id": "22f7ab5f",
   "metadata": {},
   "outputs": [
    {
     "data": {
      "text/html": [
       "<svg height=\"188pt\" viewBox=\"0.00 0.00 134.00 188.00\" width=\"134pt\" xmlns=\"http://www.w3.org/2000/svg\" xmlns:xlink=\"http://www.w3.org/1999/xlink\">\n",
       "<g class=\"graph\" id=\"graph0\" transform=\"scale(1 1) rotate(0) translate(4 184)\">\n",
       "<title>G</title>\n",
       "<!-- w -->\n",
       "<g class=\"node\" id=\"node1\">\n",
       "<title>w</title>\n",
       "<g id=\"a_node1\"><a xlink:title=\"(3) w\">\n",
       "<ellipse cx=\"63\" cy=\"-18\" fill=\"#404040\" rx=\"27\" ry=\"18\" stroke=\"#000000\"/>\n",
       "<text fill=\"#ffffff\" font-family=\"Times,serif\" font-size=\"14.00\" text-anchor=\"middle\" x=\"63\" y=\"-14.3\">w</text>\n",
       "</a>\n",
       "</g>\n",
       "</g>\n",
       "<!-- c -->\n",
       "<g class=\"node\" id=\"node2\">\n",
       "<title>c</title>\n",
       "<g id=\"a_node2\"><a xlink:title=\"(0) c\">\n",
       "<ellipse cx=\"63\" cy=\"-162\" fill=\"#404040\" rx=\"27\" ry=\"18\" stroke=\"#000000\"/>\n",
       "<text fill=\"#ffffff\" font-family=\"Times,serif\" font-size=\"14.00\" text-anchor=\"middle\" x=\"63\" y=\"-158.3\">c</text>\n",
       "</a>\n",
       "</g>\n",
       "</g>\n",
       "<!-- s -->\n",
       "<g class=\"node\" id=\"node3\">\n",
       "<title>s</title>\n",
       "<g id=\"a_node3\"><a xlink:title=\"(1) s\">\n",
       "<ellipse cx=\"27\" cy=\"-90\" fill=\"#404040\" rx=\"27\" ry=\"18\" stroke=\"#000000\"/>\n",
       "<text fill=\"#ffffff\" font-family=\"Times,serif\" font-size=\"14.00\" text-anchor=\"middle\" x=\"27\" y=\"-86.3\">s</text>\n",
       "</a>\n",
       "</g>\n",
       "</g>\n",
       "<!-- c&#45;&gt;s -->\n",
       "<g class=\"edge\" id=\"edge1\">\n",
       "<title>c-&gt;s</title>\n",
       "<g id=\"a_edge1\"><a xlink:title=\"(0, 1) : \">\n",
       "<path d=\"M54.2854,-144.5708C50.0403,-136.0807 44.8464,-125.6929 40.1337,-116.2674\" fill=\"none\" stroke=\"#4a4a4a\"/>\n",
       "<polygon fill=\"#4a4a4a\" points=\"43.237,-114.6477 35.6343,-107.2687 36.976,-117.7782 43.237,-114.6477\" stroke=\"#4a4a4a\"/>\n",
       "</a>\n",
       "</g>\n",
       "</g>\n",
       "<!-- r -->\n",
       "<g class=\"node\" id=\"node4\">\n",
       "<title>r</title>\n",
       "<g id=\"a_node4\"><a xlink:title=\"(2) r\">\n",
       "<ellipse cx=\"99\" cy=\"-90\" fill=\"#404040\" rx=\"27\" ry=\"18\" stroke=\"#000000\"/>\n",
       "<text fill=\"#ffffff\" font-family=\"Times,serif\" font-size=\"14.00\" text-anchor=\"middle\" x=\"99\" y=\"-86.3\">r</text>\n",
       "</a>\n",
       "</g>\n",
       "</g>\n",
       "<!-- c&#45;&gt;r -->\n",
       "<g class=\"edge\" id=\"edge4\">\n",
       "<title>c-&gt;r</title>\n",
       "<g id=\"a_edge4\"><a xlink:title=\"(0, 2) : \">\n",
       "<path d=\"M71.7146,-144.5708C75.9597,-136.0807 81.1536,-125.6929 85.8663,-116.2674\" fill=\"none\" stroke=\"#4a4a4a\"/>\n",
       "<polygon fill=\"#4a4a4a\" points=\"89.024,-117.7782 90.3657,-107.2687 82.763,-114.6477 89.024,-117.7782\" stroke=\"#4a4a4a\"/>\n",
       "</a>\n",
       "</g>\n",
       "</g>\n",
       "<!-- s&#45;&gt;w -->\n",
       "<g class=\"edge\" id=\"edge2\">\n",
       "<title>s-&gt;w</title>\n",
       "<g id=\"a_edge2\"><a xlink:title=\"(1, 3) : \">\n",
       "<path d=\"M35.7146,-72.5708C39.9597,-64.0807 45.1536,-53.6929 49.8663,-44.2674\" fill=\"none\" stroke=\"#4a4a4a\"/>\n",
       "<polygon fill=\"#4a4a4a\" points=\"53.024,-45.7782 54.3657,-35.2687 46.763,-42.6477 53.024,-45.7782\" stroke=\"#4a4a4a\"/>\n",
       "</a>\n",
       "</g>\n",
       "</g>\n",
       "<!-- r&#45;&gt;w -->\n",
       "<g class=\"edge\" id=\"edge3\">\n",
       "<title>r-&gt;w</title>\n",
       "<g id=\"a_edge3\"><a xlink:title=\"(2, 3) : \">\n",
       "<path d=\"M90.2854,-72.5708C86.0403,-64.0807 80.8464,-53.6929 76.1337,-44.2674\" fill=\"none\" stroke=\"#4a4a4a\"/>\n",
       "<polygon fill=\"#4a4a4a\" points=\"79.237,-42.6477 71.6343,-35.2687 72.976,-45.7782 79.237,-42.6477\" stroke=\"#4a4a4a\"/>\n",
       "</a>\n",
       "</g>\n",
       "</g>\n",
       "</g>\n",
       "</svg>"
      ],
      "text/plain": [
       "(pyAgrum.BayesNet<double>@0x561ebd038070) BN{nodes: 4, arcs: 4, domainSize: 16, dim: 18}"
      ]
     },
     "execution_count": 6,
     "metadata": {},
     "output_type": "execute_result"
    }
   ],
   "source": [
    "import pyAgrum.lib.notebook as gnb\n",
    "bn"
   ]
  },
  {
   "cell_type": "code",
   "execution_count": 7,
   "id": "5955451b",
   "metadata": {},
   "outputs": [
    {
     "data": {
      "text/plain": [
       "dict_keys(['data', 'target', 'frame', 'target_names', 'DESCR', 'feature_names', 'filename', 'data_module'])"
      ]
     },
     "execution_count": 7,
     "metadata": {},
     "output_type": "execute_result"
    }
   ],
   "source": [
    "from sklearn import datasets\n",
    "\n",
    "iris = datasets.load_iris()\n",
    "iris.keys()"
   ]
  },
  {
   "cell_type": "code",
   "execution_count": 8,
   "id": "45590bc9",
   "metadata": {},
   "outputs": [],
   "source": [
    "datas = pd.DataFrame(iris['data'], columns=iris['feature_names'])\n",
    "datas.loc[:,'class of iris'] = iris['target']"
   ]
  },
  {
   "cell_type": "code",
   "execution_count": 9,
   "id": "faba7cda",
   "metadata": {},
   "outputs": [
    {
     "data": {
      "text/html": [
       "<div>\n",
       "<style scoped>\n",
       "    .dataframe tbody tr th:only-of-type {\n",
       "        vertical-align: middle;\n",
       "    }\n",
       "\n",
       "    .dataframe tbody tr th {\n",
       "        vertical-align: top;\n",
       "    }\n",
       "\n",
       "    .dataframe thead th {\n",
       "        text-align: right;\n",
       "    }\n",
       "</style>\n",
       "<table border=\"1\" class=\"dataframe\">\n",
       "  <thead>\n",
       "    <tr style=\"text-align: right;\">\n",
       "      <th></th>\n",
       "      <th>sepal length (cm)</th>\n",
       "      <th>sepal width (cm)</th>\n",
       "      <th>petal length (cm)</th>\n",
       "      <th>petal width (cm)</th>\n",
       "      <th>class of iris</th>\n",
       "    </tr>\n",
       "  </thead>\n",
       "  <tbody>\n",
       "    <tr>\n",
       "      <th>0</th>\n",
       "      <td>(5.0, 5.4]</td>\n",
       "      <td>(3.417, 4.4]</td>\n",
       "      <td>(0.999, 1.5]</td>\n",
       "      <td>(0.099, 0.2]</td>\n",
       "      <td>0</td>\n",
       "    </tr>\n",
       "    <tr>\n",
       "      <th>1</th>\n",
       "      <td>(4.2989999999999995, 5.0]</td>\n",
       "      <td>(2.9, 3.0]</td>\n",
       "      <td>(0.999, 1.5]</td>\n",
       "      <td>(0.099, 0.2]</td>\n",
       "      <td>0</td>\n",
       "    </tr>\n",
       "    <tr>\n",
       "      <th>2</th>\n",
       "      <td>(4.2989999999999995, 5.0]</td>\n",
       "      <td>(3.0, 3.2]</td>\n",
       "      <td>(0.999, 1.5]</td>\n",
       "      <td>(0.099, 0.2]</td>\n",
       "      <td>0</td>\n",
       "    </tr>\n",
       "    <tr>\n",
       "      <th>3</th>\n",
       "      <td>(4.2989999999999995, 5.0]</td>\n",
       "      <td>(3.0, 3.2]</td>\n",
       "      <td>(0.999, 1.5]</td>\n",
       "      <td>(0.099, 0.2]</td>\n",
       "      <td>0</td>\n",
       "    </tr>\n",
       "    <tr>\n",
       "      <th>4</th>\n",
       "      <td>(4.2989999999999995, 5.0]</td>\n",
       "      <td>(3.417, 4.4]</td>\n",
       "      <td>(0.999, 1.5]</td>\n",
       "      <td>(0.099, 0.2]</td>\n",
       "      <td>0</td>\n",
       "    </tr>\n",
       "  </tbody>\n",
       "</table>\n",
       "</div>"
      ],
      "text/plain": [
       "           sepal length (cm) sepal width (cm) petal length (cm)  \\\n",
       "0                 (5.0, 5.4]     (3.417, 4.4]      (0.999, 1.5]   \n",
       "1  (4.2989999999999995, 5.0]       (2.9, 3.0]      (0.999, 1.5]   \n",
       "2  (4.2989999999999995, 5.0]       (3.0, 3.2]      (0.999, 1.5]   \n",
       "3  (4.2989999999999995, 5.0]       (3.0, 3.2]      (0.999, 1.5]   \n",
       "4  (4.2989999999999995, 5.0]     (3.417, 4.4]      (0.999, 1.5]   \n",
       "\n",
       "  petal width (cm)  class of iris  \n",
       "0     (0.099, 0.2]              0  \n",
       "1     (0.099, 0.2]              0  \n",
       "2     (0.099, 0.2]              0  \n",
       "3     (0.099, 0.2]              0  \n",
       "4     (0.099, 0.2]              0  "
      ]
     },
     "execution_count": 9,
     "metadata": {},
     "output_type": "execute_result"
    }
   ],
   "source": [
    "import numpy\n",
    "\n",
    "disc=6 # Disc(retization) may be between 2 and 9\n",
    "r=numpy.array(range(disc+1))/(1.0*disc)\n",
    "\n",
    "# quantiles are building using pandas.qcut\n",
    "# The \"class\" column is just copied.\n",
    "l=[]\n",
    "for col in datas.columns.values:\n",
    "    if col!=\"class of iris\":\n",
    "        l.append(pd.DataFrame(pd.qcut(datas[col],r),columns=[col]))\n",
    "    else:\n",
    "        l.append(pd.DataFrame(datas[col],columns=[col]))\n",
    "treated=pd.concat(l, join='outer', axis=1)\n",
    "\n",
    "treated.head()"
   ]
  },
  {
   "cell_type": "code",
   "execution_count": 37,
   "id": "1fce9c1f",
   "metadata": {},
   "outputs": [
    {
     "data": {
      "text/plain": [
       "array([0, 1, 2])"
      ]
     },
     "execution_count": 37,
     "metadata": {},
     "output_type": "execute_result"
    }
   ],
   "source": [
    "treated['class of iris'].unique()"
   ]
  },
  {
   "cell_type": "code",
   "execution_count": 10,
   "id": "4f86706d",
   "metadata": {},
   "outputs": [
    {
     "name": "stdout",
     "output_type": "stream",
     "text": [
      "Learned in 0.706703ms\n"
     ]
    },
    {
     "data": {
      "image/svg+xml": [
       "<svg height=\"245pt\" viewBox=\"0.00 0.00 360.00 244.56\" width=\"360pt\" xmlns=\"http://www.w3.org/2000/svg\" xmlns:xlink=\"http://www.w3.org/1999/xlink\">\n",
       "<g class=\"graph\" id=\"graph0\" transform=\"scale(.9406 .9406) rotate(0) translate(4 256)\">\n",
       "<title>G</title>\n",
       "<!-- sepal width (cm) -->\n",
       "<g class=\"node\" id=\"node1\">\n",
       "<title>sepal width (cm)</title>\n",
       "<g id=\"a_node1\"><a xlink:title=\"(1) sepal width (cm)\">\n",
       "<ellipse cx=\"189.6419\" cy=\"-234\" fill=\"#404040\" rx=\"88.2844\" ry=\"18\" stroke=\"#000000\"/>\n",
       "<text fill=\"#ffffff\" font-family=\"Times,serif\" font-size=\"14.00\" text-anchor=\"middle\" x=\"189.6419\" y=\"-230.3\">sepal width (cm)</text>\n",
       "</a>\n",
       "</g>\n",
       "</g>\n",
       "<!-- class of iris -->\n",
       "<g class=\"node\" id=\"node5\">\n",
       "<title>class of iris</title>\n",
       "<g id=\"a_node5\"><a xlink:title=\"(4) class of iris\">\n",
       "<ellipse cx=\"189.6419\" cy=\"-162\" fill=\"#404040\" rx=\"63.8893\" ry=\"18\" stroke=\"#000000\"/>\n",
       "<text fill=\"#ffffff\" font-family=\"Times,serif\" font-size=\"14.00\" text-anchor=\"middle\" x=\"189.6419\" y=\"-158.3\">class of iris</text>\n",
       "</a>\n",
       "</g>\n",
       "</g>\n",
       "<!-- sepal width (cm)&#45;&gt;class of iris -->\n",
       "<g class=\"edge\" id=\"edge3\">\n",
       "<title>sepal width (cm)-&gt;class of iris</title>\n",
       "<g id=\"a_edge3\"><a xlink:title=\"(1, 4) : \">\n",
       "<path d=\"M189.6419,-215.8314C189.6419,-208.131 189.6419,-198.9743 189.6419,-190.4166\" fill=\"none\" stroke=\"#4a4a4a\"/>\n",
       "<polygon fill=\"#4a4a4a\" points=\"193.142,-190.4132 189.6419,-180.4133 186.142,-190.4133 193.142,-190.4132\" stroke=\"#4a4a4a\"/>\n",
       "</a>\n",
       "</g>\n",
       "</g>\n",
       "<!-- sepal length (cm) -->\n",
       "<g class=\"node\" id=\"node2\">\n",
       "<title>sepal length (cm)</title>\n",
       "<g id=\"a_node2\"><a xlink:title=\"(0) sepal length (cm)\">\n",
       "<ellipse cx=\"91.6419\" cy=\"-18\" fill=\"#404040\" rx=\"91.784\" ry=\"18\" stroke=\"#000000\"/>\n",
       "<text fill=\"#ffffff\" font-family=\"Times,serif\" font-size=\"14.00\" text-anchor=\"middle\" x=\"91.6419\" y=\"-14.3\">sepal length (cm)</text>\n",
       "</a>\n",
       "</g>\n",
       "</g>\n",
       "<!-- petal length (cm) -->\n",
       "<g class=\"node\" id=\"node3\">\n",
       "<title>petal length (cm)</title>\n",
       "<g id=\"a_node3\"><a xlink:title=\"(2) petal length (cm)\">\n",
       "<ellipse cx=\"91.6419\" cy=\"-90\" fill=\"#404040\" rx=\"90.9839\" ry=\"18\" stroke=\"#000000\"/>\n",
       "<text fill=\"#ffffff\" font-family=\"Times,serif\" font-size=\"14.00\" text-anchor=\"middle\" x=\"91.6419\" y=\"-86.3\">petal length (cm)</text>\n",
       "</a>\n",
       "</g>\n",
       "</g>\n",
       "<!-- petal length (cm)&#45;&gt;sepal length (cm) -->\n",
       "<g class=\"edge\" id=\"edge2\">\n",
       "<title>petal length (cm)-&gt;sepal length (cm)</title>\n",
       "<g id=\"a_edge2\"><a xlink:title=\"(2, 0) : \">\n",
       "<path d=\"M91.6419,-71.8314C91.6419,-64.131 91.6419,-54.9743 91.6419,-46.4166\" fill=\"none\" stroke=\"#4a4a4a\"/>\n",
       "<polygon fill=\"#4a4a4a\" points=\"95.142,-46.4132 91.6419,-36.4133 88.142,-46.4133 95.142,-46.4132\" stroke=\"#4a4a4a\"/>\n",
       "</a>\n",
       "</g>\n",
       "</g>\n",
       "<!-- petal width (cm) -->\n",
       "<g class=\"node\" id=\"node4\">\n",
       "<title>petal width (cm)</title>\n",
       "<g id=\"a_node4\"><a xlink:title=\"(3) petal width (cm)\">\n",
       "<ellipse cx=\"287.6419\" cy=\"-90\" fill=\"#404040\" rx=\"87.1846\" ry=\"18\" stroke=\"#000000\"/>\n",
       "<text fill=\"#ffffff\" font-family=\"Times,serif\" font-size=\"14.00\" text-anchor=\"middle\" x=\"287.6419\" y=\"-86.3\">petal width (cm)</text>\n",
       "</a>\n",
       "</g>\n",
       "</g>\n",
       "<!-- class of iris&#45;&gt;petal length (cm) -->\n",
       "<g class=\"edge\" id=\"edge1\">\n",
       "<title>class of iris-&gt;petal length (cm)</title>\n",
       "<g id=\"a_edge1\"><a xlink:title=\"(4, 2) : \">\n",
       "<path d=\"M166.4172,-144.937C153.6678,-135.57 137.6637,-123.8119 123.7363,-113.5796\" fill=\"none\" stroke=\"#4a4a4a\"/>\n",
       "<polygon fill=\"#4a4a4a\" points=\"125.5117,-110.5409 115.3806,-107.4407 121.3671,-116.1821 125.5117,-110.5409\" stroke=\"#4a4a4a\"/>\n",
       "</a>\n",
       "</g>\n",
       "</g>\n",
       "<!-- class of iris&#45;&gt;petal width (cm) -->\n",
       "<g class=\"edge\" id=\"edge4\">\n",
       "<title>class of iris-&gt;petal width (cm)</title>\n",
       "<g id=\"a_edge4\"><a xlink:title=\"(4, 3) : \">\n",
       "<path d=\"M212.8665,-144.937C225.616,-135.57 241.6201,-123.8119 255.5474,-113.5796\" fill=\"none\" stroke=\"#4a4a4a\"/>\n",
       "<polygon fill=\"#4a4a4a\" points=\"257.9166,-116.1821 263.9032,-107.4407 253.7721,-110.5409 257.9166,-116.1821\" stroke=\"#4a4a4a\"/>\n",
       "</a>\n",
       "</g>\n",
       "</g>\n",
       "</g>\n",
       "</svg>"
      ],
      "text/plain": [
       "<IPython.core.display.SVG object>"
      ]
     },
     "metadata": {},
     "output_type": "display_data"
    }
   ],
   "source": [
    "#we put the discretized values in a csv file in order to be learned by pyAgrum\n",
    "treated.to_csv(\"irisTreated.csv\",index=False)\n",
    "\n",
    "learner=gum.BNLearner(\"irisTreated.csv\")\n",
    "learner.useLocalSearchWithTabuList()\n",
    "bn_iris=learner.learnBN()\n",
    "print(\"Learned in {0}ms\".format(1000*learner.currentTime()))\n",
    "gnb.showBN(bn_iris)"
   ]
  },
  {
   "cell_type": "code",
   "execution_count": 46,
   "id": "b3ad36e4",
   "metadata": {},
   "outputs": [
    {
     "data": {
      "text/html": [
       "<table style=\"border:1px solid black;\">\n",
       "<tr><th colspan='1'></th>\n",
       "      <th colspan='3' style='border:1px solid black;color:black;background-color:#808080;'><center>class of iris</center>\n",
       "      </th></tr>\n",
       "<tr><th style='border:1px solid black;color:black;background-color:#808080'><center>sepal width (cm)</center></th><th style='border:1px solid black;border-bottom-style: double;color:black;background-color:#BBBBBB'>\n",
       "      <center>0</center></th><th style='border:1px solid black;border-bottom-style: double;color:black;background-color:#BBBBBB'>\n",
       "      <center>1</center></th><th style='border:1px solid black;border-bottom-style: double;color:black;background-color:#BBBBBB'>\n",
       "      <center>2</center></th></tr>\n",
       "<tr><th style='border:1px solid black;color:black;background-color:#BBBBBB'><center>(1.999, 2.7]</center></th><td style='color:black;background-color:#fa8364;text-align:right;'>0.0318</td><td style='color:black;background-color:#add064;text-align:right;'>0.6348</td><td style='color:black;background-color:#d4a964;text-align:right;'>0.3333</td></tr>\n",
       "<tr><th style='border:1px solid black;color:black;background-color:#BBBBBB'><center>(2.7, 2.9]</center></th><td style='color:black;background-color:#f98464;text-align:right;'>0.0437</td><td style='color:black;background-color:#b9c464;text-align:right;'>0.5402</td><td style='color:black;background-color:#c9b464;text-align:right;'>0.4161</td></tr>\n",
       "<tr><th style='border:1px solid black;color:black;background-color:#BBBBBB'><center>(2.9, 3.0]</center></th><td style='color:black;background-color:#e19c64;text-align:right;'>0.2314</td><td style='color:black;background-color:#d7a664;text-align:right;'>0.3079</td><td style='color:black;background-color:#c4b964;text-align:right;'>0.4607</td></tr>\n",
       "<tr><th style='border:1px solid black;color:black;background-color:#BBBBBB'><center>(3.0, 3.2]</center></th><td style='color:black;background-color:#cfae64;text-align:right;'>0.3747</td><td style='color:black;background-color:#de9f64;text-align:right;'>0.2506</td><td style='color:black;background-color:#cfae64;text-align:right;'>0.3747</td></tr>\n",
       "<tr><th style='border:1px solid black;color:black;background-color:#BBBBBB'><center>(3.2, 3.417]</center></th><td style='color:black;background-color:#b1cc64;text-align:right;'>0.6086</td><td style='color:black;background-color:#f08d64;text-align:right;'>0.1131</td><td style='color:black;background-color:#dba264;text-align:right;'>0.2783</td></tr>\n",
       "<tr><th style='border:1px solid black;color:black;background-color:#BBBBBB'><center>(3.417, 4.4]</center></th><td style='color:black;background-color:#8eef64;text-align:right;'>0.8764</td><td style='color:black;background-color:#fe7f64;text-align:right;'>0.0022</td><td style='color:black;background-color:#ef8e64;text-align:right;'>0.1214</td></tr>\n",
       "</table>"
      ],
      "text/plain": [
       "(pyAgrum.Potential<double>@0x561ebd8bd460) \n",
       "      ||  class of iris              |\n",
       "sepal ||0        |1        |2        |\n",
       "------||---------|---------|---------|\n",
       "(1.999|| 0.0318  | 0.6348  | 0.3333  |\n",
       "(2.7, || 0.0437  | 0.5402  | 0.4161  |\n",
       "(2.9, || 0.2314  | 0.3079  | 0.4607  |\n",
       "(3.0, || 0.3747  | 0.2506  | 0.3747  |\n",
       "(3.2, || 0.6086  | 0.1131  | 0.2783  |\n",
       "(3.417|| 0.8764  | 0.0022  | 0.1214  |"
      ]
     },
     "execution_count": 46,
     "metadata": {},
     "output_type": "execute_result"
    }
   ],
   "source": [
    "bn_iris.cpt('class of iris')"
   ]
  },
  {
   "cell_type": "code",
   "execution_count": 11,
   "id": "616b28f4",
   "metadata": {},
   "outputs": [
    {
     "name": "stdout",
     "output_type": "stream",
     "text": [
      "Learned in 0.492916ms\n"
     ]
    },
    {
     "data": {
      "image/svg+xml": [
       "<svg height=\"116pt\" viewBox=\"0.00 0.00 360.00 115.94\" width=\"360pt\" xmlns=\"http://www.w3.org/2000/svg\" xmlns:xlink=\"http://www.w3.org/1999/xlink\">\n",
       "<g class=\"graph\" id=\"graph0\" transform=\"scale(.6167 .6167) rotate(0) translate(4 184)\">\n",
       "<title>G</title>\n",
       "<!-- sepal width (cm) -->\n",
       "<g class=\"node\" id=\"node1\">\n",
       "<title>sepal width (cm)</title>\n",
       "<g id=\"a_node1\"><a xlink:title=\"(1) sepal width (cm)\">\n",
       "<ellipse cx=\"292.6419\" cy=\"-162\" fill=\"#404040\" rx=\"88.2844\" ry=\"18\" stroke=\"#000000\"/>\n",
       "<text fill=\"#ffffff\" font-family=\"Times,serif\" font-size=\"14.00\" text-anchor=\"middle\" x=\"292.6419\" y=\"-158.3\">sepal width (cm)</text>\n",
       "</a>\n",
       "</g>\n",
       "</g>\n",
       "<!-- class of iris -->\n",
       "<g class=\"node\" id=\"node5\">\n",
       "<title>class of iris</title>\n",
       "<g id=\"a_node5\"><a xlink:title=\"(4) class of iris\">\n",
       "<ellipse cx=\"292.6419\" cy=\"-90\" fill=\"#404040\" rx=\"63.8893\" ry=\"18\" stroke=\"#000000\"/>\n",
       "<text fill=\"#ffffff\" font-family=\"Times,serif\" font-size=\"14.00\" text-anchor=\"middle\" x=\"292.6419\" y=\"-86.3\">class of iris</text>\n",
       "</a>\n",
       "</g>\n",
       "</g>\n",
       "<!-- sepal width (cm)&#45;&gt;class of iris -->\n",
       "<g class=\"edge\" id=\"edge1\">\n",
       "<title>sepal width (cm)-&gt;class of iris</title>\n",
       "<g id=\"a_edge1\"><a xlink:title=\"(1, 4) : \">\n",
       "<path d=\"M292.6419,-143.8314C292.6419,-136.131 292.6419,-126.9743 292.6419,-118.4166\" fill=\"none\" stroke=\"#4a4a4a\"/>\n",
       "<polygon fill=\"#4a4a4a\" points=\"296.142,-118.4132 292.6419,-108.4133 289.142,-118.4133 296.142,-118.4132\" stroke=\"#4a4a4a\"/>\n",
       "</a>\n",
       "</g>\n",
       "</g>\n",
       "<!-- sepal length (cm) -->\n",
       "<g class=\"node\" id=\"node2\">\n",
       "<title>sepal length (cm)</title>\n",
       "<g id=\"a_node2\"><a xlink:title=\"(0) sepal length (cm)\">\n",
       "<ellipse cx=\"91.6419\" cy=\"-18\" fill=\"#404040\" rx=\"91.784\" ry=\"18\" stroke=\"#000000\"/>\n",
       "<text fill=\"#ffffff\" font-family=\"Times,serif\" font-size=\"14.00\" text-anchor=\"middle\" x=\"91.6419\" y=\"-14.3\">sepal length (cm)</text>\n",
       "</a>\n",
       "</g>\n",
       "</g>\n",
       "<!-- petal length (cm) -->\n",
       "<g class=\"node\" id=\"node3\">\n",
       "<title>petal length (cm)</title>\n",
       "<g id=\"a_node3\"><a xlink:title=\"(2) petal length (cm)\">\n",
       "<ellipse cx=\"292.6419\" cy=\"-18\" fill=\"#404040\" rx=\"90.9839\" ry=\"18\" stroke=\"#000000\"/>\n",
       "<text fill=\"#ffffff\" font-family=\"Times,serif\" font-size=\"14.00\" text-anchor=\"middle\" x=\"292.6419\" y=\"-14.3\">petal length (cm)</text>\n",
       "</a>\n",
       "</g>\n",
       "</g>\n",
       "<!-- petal width (cm) -->\n",
       "<g class=\"node\" id=\"node4\">\n",
       "<title>petal width (cm)</title>\n",
       "<g id=\"a_node4\"><a xlink:title=\"(3) petal width (cm)\">\n",
       "<ellipse cx=\"488.6419\" cy=\"-18\" fill=\"#404040\" rx=\"87.1846\" ry=\"18\" stroke=\"#000000\"/>\n",
       "<text fill=\"#ffffff\" font-family=\"Times,serif\" font-size=\"14.00\" text-anchor=\"middle\" x=\"488.6419\" y=\"-14.3\">petal width (cm)</text>\n",
       "</a>\n",
       "</g>\n",
       "</g>\n",
       "<!-- class of iris&#45;&gt;sepal length (cm) -->\n",
       "<g class=\"edge\" id=\"edge4\">\n",
       "<title>class of iris-&gt;sepal length (cm)</title>\n",
       "<g id=\"a_edge4\"><a xlink:title=\"(4, 0) : \">\n",
       "<path d=\"M252.9307,-75.7751C222.2123,-64.7715 179.357,-49.4203 145.5417,-37.3074\" fill=\"none\" stroke=\"#4a4a4a\"/>\n",
       "<polygon fill=\"#4a4a4a\" points=\"146.4069,-33.8996 135.8124,-33.8223 144.0463,-40.4896 146.4069,-33.8996\" stroke=\"#4a4a4a\"/>\n",
       "</a>\n",
       "</g>\n",
       "</g>\n",
       "<!-- class of iris&#45;&gt;petal length (cm) -->\n",
       "<g class=\"edge\" id=\"edge2\">\n",
       "<title>class of iris-&gt;petal length (cm)</title>\n",
       "<g id=\"a_edge2\"><a xlink:title=\"(4, 2) : \">\n",
       "<path d=\"M292.6419,-71.8314C292.6419,-64.131 292.6419,-54.9743 292.6419,-46.4166\" fill=\"none\" stroke=\"#4a4a4a\"/>\n",
       "<polygon fill=\"#4a4a4a\" points=\"296.142,-46.4132 292.6419,-36.4133 289.142,-46.4133 296.142,-46.4132\" stroke=\"#4a4a4a\"/>\n",
       "</a>\n",
       "</g>\n",
       "</g>\n",
       "<!-- class of iris&#45;&gt;petal width (cm) -->\n",
       "<g class=\"edge\" id=\"edge3\">\n",
       "<title>class of iris-&gt;petal width (cm)</title>\n",
       "<g id=\"a_edge3\"><a xlink:title=\"(4, 3) : \">\n",
       "<path d=\"M331.8343,-75.6028C361.8292,-64.5842 403.4875,-49.2812 436.3278,-37.2174\" fill=\"none\" stroke=\"#4a4a4a\"/>\n",
       "<polygon fill=\"#4a4a4a\" points=\"437.5957,-40.4804 445.7755,-33.7468 435.1819,-33.9097 437.5957,-40.4804\" stroke=\"#4a4a4a\"/>\n",
       "</a>\n",
       "</g>\n",
       "</g>\n",
       "</g>\n",
       "</svg>"
      ],
      "text/plain": [
       "<IPython.core.display.SVG object>"
      ]
     },
     "metadata": {},
     "output_type": "display_data"
    }
   ],
   "source": [
    "learner=gum.BNLearner(\"irisTreated.csv\")\n",
    "learner.useGreedyHillClimbing()\n",
    "bn_iris2=learner.learnBN()\n",
    "print(\"Learned in {0}ms\".format(1000*learner.currentTime()))\n",
    "gnb.showBN(bn_iris2)"
   ]
  },
  {
   "cell_type": "code",
   "execution_count": 15,
   "id": "4146b1ed",
   "metadata": {},
   "outputs": [
    {
     "data": {
      "text/html": [
       "<table style=\"border:1px solid black;\">\n",
       "<tr style='border:1px solid black;color:black;background-color:#808080'>\n",
       "      <th colspan='6'><center>sepal width (cm)</center></th></tr>\n",
       "<tr><th style='border:1px solid black;border-bottom-style: double;color:black;background-color:#BBBBBB'>\n",
       "      <center>(1.999, 2.7]</center></th><th style='border:1px solid black;border-bottom-style: double;color:black;background-color:#BBBBBB'>\n",
       "      <center>(2.7, 2.9]</center></th><th style='border:1px solid black;border-bottom-style: double;color:black;background-color:#BBBBBB'>\n",
       "      <center>(2.9, 3.0]</center></th><th style='border:1px solid black;border-bottom-style: double;color:black;background-color:#BBBBBB'>\n",
       "      <center>(3.0, 3.2]</center></th><th style='border:1px solid black;border-bottom-style: double;color:black;background-color:#BBBBBB'>\n",
       "      <center>(3.2, 3.417]</center></th><th style='border:1px solid black;border-bottom-style: double;color:black;background-color:#BBBBBB'>\n",
       "      <center>(3.417, 4.4]</center></th></tr>\n",
       "<tr><td style='color:black;background-color:#e29b64;text-align:right;'>0.2196</td><td style='color:black;background-color:#ea9364;text-align:right;'>0.1600</td><td style='color:black;background-color:#e89564;text-align:right;'>0.1733</td><td style='color:black;background-color:#ea9364;text-align:right;'>0.1600</td><td style='color:black;background-color:#ef8e64;text-align:right;'>0.1203</td><td style='color:black;background-color:#e99464;text-align:right;'>0.1667</td></tr>\n",
       "</table>"
      ],
      "text/plain": [
       "(pyAgrum.Potential<double>@0x561ebd8f8540) \n",
       "  sepal width (cm)                                         |\n",
       "(1.999, 2|(2.7, 2.9|(2.9, 3.0|(3.0, 3.2|(3.2, 3.4|(3.417, 4|\n",
       "---------|---------|---------|---------|---------|---------|\n",
       " 0.2196  | 0.1600  | 0.1733  | 0.1600  | 0.1203  | 0.1667  |"
      ]
     },
     "execution_count": 15,
     "metadata": {},
     "output_type": "execute_result"
    }
   ],
   "source": [
    "bn_iris2.cpt('sepal width (cm)')"
   ]
  },
  {
   "cell_type": "code",
   "execution_count": 16,
   "id": "ebb4b790",
   "metadata": {},
   "outputs": [
    {
     "data": {
      "text/html": [
       "<table style=\"border:1px solid black;\">\n",
       "<tr><th colspan='1'></th>\n",
       "      <th colspan='6' style='border:1px solid black;color:black;background-color:#808080;'><center>sepal length (cm)</center>\n",
       "      </th></tr>\n",
       "<tr><th style='border:1px solid black;color:black;background-color:#808080'><center>class of iris</center></th><th style='border:1px solid black;border-bottom-style: double;color:black;background-color:#BBBBBB'>\n",
       "      <center>(4.2989999999999995, 5.0]</center></th><th style='border:1px solid black;border-bottom-style: double;color:black;background-color:#BBBBBB'>\n",
       "      <center>(5.0, 5.4]</center></th><th style='border:1px solid black;border-bottom-style: double;color:black;background-color:#BBBBBB'>\n",
       "      <center>(5.4, 5.8]</center></th><th style='border:1px solid black;border-bottom-style: double;color:black;background-color:#BBBBBB'>\n",
       "      <center>(5.8, 6.3]</center></th><th style='border:1px solid black;border-bottom-style: double;color:black;background-color:#BBBBBB'>\n",
       "      <center>(6.3, 6.7]</center></th><th style='border:1px solid black;border-bottom-style: double;color:black;background-color:#BBBBBB'>\n",
       "      <center>(6.7, 7.9]</center></th></tr>\n",
       "<tr><th style='border:1px solid black;color:black;background-color:#BBBBBB'><center>0</center></th><td style='color:black;background-color:#b7c664;text-align:right;'>0.5574</td><td style='color:black;background-color:#d3aa64;text-align:right;'>0.3389</td><td style='color:black;background-color:#f28b64;text-align:right;'>0.1004</td><td style='color:black;background-color:#fe7f64;text-align:right;'>0.0011</td><td style='color:black;background-color:#fe7f64;text-align:right;'>0.0011</td><td style='color:black;background-color:#fe7f64;text-align:right;'>0.0011</td></tr>\n",
       "<tr><th style='border:1px solid black;color:black;background-color:#BBBBBB'><center>1</center></th><td style='color:black;background-color:#f78664;text-align:right;'>0.0607</td><td style='color:black;background-color:#f78664;text-align:right;'>0.0607</td><td style='color:black;background-color:#d1ac64;text-align:right;'>0.3587</td><td style='color:black;background-color:#d8a564;text-align:right;'>0.2991</td><td style='color:black;background-color:#ea9364;text-align:right;'>0.1600</td><td style='color:black;background-color:#f78664;text-align:right;'>0.0607</td></tr>\n",
       "<tr><th style='border:1px solid black;color:black;background-color:#BBBBBB'><center>2</center></th><td style='color:black;background-color:#fc8164;text-align:right;'>0.0210</td><td style='color:black;background-color:#fe7f64;text-align:right;'>0.0011</td><td style='color:black;background-color:#f28b64;text-align:right;'>0.1004</td><td style='color:black;background-color:#dda064;text-align:right;'>0.2594</td><td style='color:black;background-color:#dba264;text-align:right;'>0.2792</td><td style='color:black;background-color:#d3aa64;text-align:right;'>0.3389</td></tr>\n",
       "</table>"
      ],
      "text/plain": [
       "(pyAgrum.Potential<double>@0x561ebd0e3240) \n",
       "      ||  sepal length (cm)                                        |\n",
       "class ||(4.298999|(5.0, 5.4|(5.4, 5.8|(5.8, 6.3|(6.3, 6.7|(6.7, 7.9|\n",
       "------||---------|---------|---------|---------|---------|---------|\n",
       "0     || 0.5574  | 0.3389  | 0.1004  | 0.0011  | 0.0011  | 0.0011  |\n",
       "1     || 0.0607  | 0.0607  | 0.3587  | 0.2991  | 0.1600  | 0.0607  |\n",
       "2     || 0.0210  | 0.0011  | 0.1004  | 0.2594  | 0.2792  | 0.3389  |"
      ]
     },
     "execution_count": 16,
     "metadata": {},
     "output_type": "execute_result"
    }
   ],
   "source": [
    "bn_iris2.cpt('sepal length (cm)')"
   ]
  },
  {
   "cell_type": "code",
   "execution_count": 17,
   "id": "0ea16af1",
   "metadata": {},
   "outputs": [
    {
     "data": {
      "text/html": [
       "<table style=\"border:1px solid black;\">\n",
       "<tr><th colspan='1'></th>\n",
       "      <th colspan='3' style='border:1px solid black;color:black;background-color:#808080;'><center>class of iris</center>\n",
       "      </th></tr>\n",
       "<tr><th style='border:1px solid black;color:black;background-color:#808080'><center>sepal width (cm)</center></th><th style='border:1px solid black;border-bottom-style: double;color:black;background-color:#BBBBBB'>\n",
       "      <center>0</center></th><th style='border:1px solid black;border-bottom-style: double;color:black;background-color:#BBBBBB'>\n",
       "      <center>1</center></th><th style='border:1px solid black;border-bottom-style: double;color:black;background-color:#BBBBBB'>\n",
       "      <center>2</center></th></tr>\n",
       "<tr><th style='border:1px solid black;color:black;background-color:#BBBBBB'><center>(1.999, 2.7]</center></th><td style='color:black;background-color:#fa8364;text-align:right;'>0.0318</td><td style='color:black;background-color:#add064;text-align:right;'>0.6348</td><td style='color:black;background-color:#d4a964;text-align:right;'>0.3333</td></tr>\n",
       "<tr><th style='border:1px solid black;color:black;background-color:#BBBBBB'><center>(2.7, 2.9]</center></th><td style='color:black;background-color:#f98464;text-align:right;'>0.0437</td><td style='color:black;background-color:#b9c464;text-align:right;'>0.5402</td><td style='color:black;background-color:#c9b464;text-align:right;'>0.4161</td></tr>\n",
       "<tr><th style='border:1px solid black;color:black;background-color:#BBBBBB'><center>(2.9, 3.0]</center></th><td style='color:black;background-color:#e19c64;text-align:right;'>0.2314</td><td style='color:black;background-color:#d7a664;text-align:right;'>0.3079</td><td style='color:black;background-color:#c4b964;text-align:right;'>0.4607</td></tr>\n",
       "<tr><th style='border:1px solid black;color:black;background-color:#BBBBBB'><center>(3.0, 3.2]</center></th><td style='color:black;background-color:#cfae64;text-align:right;'>0.3747</td><td style='color:black;background-color:#de9f64;text-align:right;'>0.2506</td><td style='color:black;background-color:#cfae64;text-align:right;'>0.3747</td></tr>\n",
       "<tr><th style='border:1px solid black;color:black;background-color:#BBBBBB'><center>(3.2, 3.417]</center></th><td style='color:black;background-color:#b1cc64;text-align:right;'>0.6086</td><td style='color:black;background-color:#f08d64;text-align:right;'>0.1131</td><td style='color:black;background-color:#dba264;text-align:right;'>0.2783</td></tr>\n",
       "<tr><th style='border:1px solid black;color:black;background-color:#BBBBBB'><center>(3.417, 4.4]</center></th><td style='color:black;background-color:#8eef64;text-align:right;'>0.8764</td><td style='color:black;background-color:#fe7f64;text-align:right;'>0.0022</td><td style='color:black;background-color:#ef8e64;text-align:right;'>0.1214</td></tr>\n",
       "</table>"
      ],
      "text/plain": [
       "(pyAgrum.Potential<double>@0x561ebd9e1130) \n",
       "      ||  class of iris              |\n",
       "sepal ||0        |1        |2        |\n",
       "------||---------|---------|---------|\n",
       "(1.999|| 0.0318  | 0.6348  | 0.3333  |\n",
       "(2.7, || 0.0437  | 0.5402  | 0.4161  |\n",
       "(2.9, || 0.2314  | 0.3079  | 0.4607  |\n",
       "(3.0, || 0.3747  | 0.2506  | 0.3747  |\n",
       "(3.2, || 0.6086  | 0.1131  | 0.2783  |\n",
       "(3.417|| 0.8764  | 0.0022  | 0.1214  |"
      ]
     },
     "execution_count": 17,
     "metadata": {},
     "output_type": "execute_result"
    }
   ],
   "source": [
    "bn_iris2.cpt('class of iris')"
   ]
  },
  {
   "cell_type": "code",
   "execution_count": null,
   "id": "1d3c80b3",
   "metadata": {},
   "outputs": [],
   "source": [
    "bn_iris3.cpt()"
   ]
  },
  {
   "cell_type": "code",
   "execution_count": 44,
   "id": "96c6c62c",
   "metadata": {},
   "outputs": [
    {
     "data": {
      "text/html": [
       "<svg height=\"188pt\" viewBox=\"0.00 0.00 189.98 188.00\" width=\"190pt\" xmlns=\"http://www.w3.org/2000/svg\" xmlns:xlink=\"http://www.w3.org/1999/xlink\">\n",
       "<g class=\"graph\" id=\"graph0\" transform=\"scale(1 1) rotate(0) translate(4 184)\">\n",
       "<title>G</title>\n",
       "<!-- sepal width (cm) -->\n",
       "<g class=\"node\" id=\"node1\">\n",
       "<title>sepal width (cm)</title>\n",
       "<g id=\"a_node1\"><a xlink:title=\"(0) sepal width (cm)\">\n",
       "<ellipse cx=\"90.9919\" cy=\"-162\" fill=\"#404040\" rx=\"88.2844\" ry=\"18\" stroke=\"#000000\"/>\n",
       "<text fill=\"#ffffff\" font-family=\"Times,serif\" font-size=\"14.00\" text-anchor=\"middle\" x=\"90.9919\" y=\"-158.3\">sepal width (cm)</text>\n",
       "</a>\n",
       "</g>\n",
       "</g>\n",
       "<!-- class of iris -->\n",
       "<g class=\"node\" id=\"node3\">\n",
       "<title>class of iris</title>\n",
       "<g id=\"a_node3\"><a xlink:title=\"(1) class of iris\">\n",
       "<ellipse cx=\"90.9919\" cy=\"-90\" fill=\"#404040\" rx=\"63.8893\" ry=\"18\" stroke=\"#000000\"/>\n",
       "<text fill=\"#ffffff\" font-family=\"Times,serif\" font-size=\"14.00\" text-anchor=\"middle\" x=\"90.9919\" y=\"-86.3\">class of iris</text>\n",
       "</a>\n",
       "</g>\n",
       "</g>\n",
       "<!-- sepal width (cm)&#45;&gt;class of iris -->\n",
       "<g class=\"edge\" id=\"edge1\">\n",
       "<title>sepal width (cm)-&gt;class of iris</title>\n",
       "<g id=\"a_edge1\"><a xlink:title=\"(0, 1) : \">\n",
       "<path d=\"M90.9919,-143.8314C90.9919,-136.131 90.9919,-126.9743 90.9919,-118.4166\" fill=\"none\" stroke=\"#4a4a4a\"/>\n",
       "<polygon fill=\"#4a4a4a\" points=\"94.492,-118.4132 90.9919,-108.4133 87.492,-118.4133 94.492,-118.4132\" stroke=\"#4a4a4a\"/>\n",
       "</a>\n",
       "</g>\n",
       "</g>\n",
       "<!-- petal length (cm) -->\n",
       "<g class=\"node\" id=\"node2\">\n",
       "<title>petal length (cm)</title>\n",
       "<g id=\"a_node2\"><a xlink:title=\"(2) petal length (cm)\">\n",
       "<ellipse cx=\"90.9919\" cy=\"-18\" fill=\"#404040\" rx=\"90.9839\" ry=\"18\" stroke=\"#000000\"/>\n",
       "<text fill=\"#ffffff\" font-family=\"Times,serif\" font-size=\"14.00\" text-anchor=\"middle\" x=\"90.9919\" y=\"-14.3\">petal length (cm)</text>\n",
       "</a>\n",
       "</g>\n",
       "</g>\n",
       "<!-- class of iris&#45;&gt;petal length (cm) -->\n",
       "<g class=\"edge\" id=\"edge2\">\n",
       "<title>class of iris-&gt;petal length (cm)</title>\n",
       "<g id=\"a_edge2\"><a xlink:title=\"(1, 2) : \">\n",
       "<path d=\"M90.9919,-71.8314C90.9919,-64.131 90.9919,-54.9743 90.9919,-46.4166\" fill=\"none\" stroke=\"#4a4a4a\"/>\n",
       "<polygon fill=\"#4a4a4a\" points=\"94.492,-46.4132 90.9919,-36.4133 87.492,-46.4133 94.492,-46.4132\" stroke=\"#4a4a4a\"/>\n",
       "</a>\n",
       "</g>\n",
       "</g>\n",
       "</g>\n",
       "</svg>"
      ],
      "text/plain": [
       "(pyAgrum.BayesNet<double>@0x561ebdc29eb0) BN{nodes: 3, arcs: 2, domainSize: 8, dim: 10}"
      ]
     },
     "execution_count": 44,
     "metadata": {},
     "output_type": "execute_result"
    }
   ],
   "source": [
    "bn_iris3 = gum.fastBN(\"sepal width (cm) -> class of iris -> petal length (cm)\")\n",
    "bn_iris3"
   ]
  },
  {
   "cell_type": "code",
   "execution_count": 45,
   "id": "a0223cbe",
   "metadata": {},
   "outputs": [
    {
     "data": {
      "text/html": [
       "<table style=\"border:1px solid black;\">\n",
       "<tr><th colspan='1'></th>\n",
       "      <th colspan='2' style='border:1px solid black;color:black;background-color:#808080;'><center>class of iris</center>\n",
       "      </th></tr>\n",
       "<tr><th style='border:1px solid black;color:black;background-color:#808080'><center>sepal width (cm)</center></th><th style='border:1px solid black;border-bottom-style: double;color:black;background-color:#BBBBBB'>\n",
       "      <center>0</center></th><th style='border:1px solid black;border-bottom-style: double;color:black;background-color:#BBBBBB'>\n",
       "      <center>1</center></th></tr>\n",
       "<tr><th style='border:1px solid black;color:black;background-color:#BBBBBB'><center>0</center></th><td style='color:black;background-color:#c8b564;text-align:right;'>0.4267</td><td style='color:black;background-color:#b5c864;text-align:right;'>0.5733</td></tr>\n",
       "<tr><th style='border:1px solid black;color:black;background-color:#BBBBBB'><center>1</center></th><td style='color:black;background-color:#ea9364;text-align:right;'>0.1609</td><td style='color:black;background-color:#93ea64;text-align:right;'>0.8391</td></tr>\n",
       "</table>"
      ],
      "text/plain": [
       "(pyAgrum.Potential<double>@0x561ebd7fd1e0) \n",
       "      ||  class of iris    |\n",
       "sepal ||0        |1        |\n",
       "------||---------|---------|\n",
       "0     || 0.4267  | 0.5733  |\n",
       "1     || 0.1609  | 0.8391  |"
      ]
     },
     "execution_count": 45,
     "metadata": {},
     "output_type": "execute_result"
    }
   ],
   "source": [
    "bn_iris3.cpt('class of iris')"
   ]
  },
  {
   "cell_type": "code",
   "execution_count": 48,
   "id": "90221a4e",
   "metadata": {},
   "outputs": [],
   "source": [
    "ie=gum.LazyPropagation(bn_iris2)"
   ]
  },
  {
   "cell_type": "code",
   "execution_count": 49,
   "id": "7f9f0759",
   "metadata": {},
   "outputs": [
    {
     "name": "stdout",
     "output_type": "stream",
     "text": [
      "\n",
      "  class of iris              |\n",
      "0        |1        |2        |\n",
      "---------|---------|---------|\n",
      " 0.3333  | 0.3333  | 0.3333  |\n",
      "\n"
     ]
    }
   ],
   "source": [
    "ie.makeInference()\n",
    "print (ie.posterior(\"class of iris\"))"
   ]
  },
  {
   "cell_type": "code",
   "execution_count": 50,
   "id": "138a3d72",
   "metadata": {},
   "outputs": [
    {
     "data": {
      "text/html": [
       "<table style=\"border:1px solid black;\">\n",
       "<tr style='border:1px solid black;color:black;background-color:#808080'>\n",
       "      <th colspan='3'><center>class of iris</center></th></tr>\n",
       "<tr><th style='border:1px solid black;border-bottom-style: double;color:black;background-color:#BBBBBB'>\n",
       "      <center>0</center></th><th style='border:1px solid black;border-bottom-style: double;color:black;background-color:#BBBBBB'>\n",
       "      <center>1</center></th><th style='border:1px solid black;border-bottom-style: double;color:black;background-color:#BBBBBB'>\n",
       "      <center>2</center></th></tr>\n",
       "<tr><td style='color:black;background-color:#d7a664;text-align:right;'>0.3080</td><td style='color:black;background-color:#a7d664;text-align:right;'>0.6825</td><td style='color:black;background-color:#fd8064;text-align:right;'>0.0096</td></tr>\n",
       "</table>"
      ],
      "text/plain": [
       "(pyAgrum.Potential<double>@0x561ebdc2a6e0) \n",
       "  class of iris              |\n",
       "0        |1        |2        |\n",
       "---------|---------|---------|\n",
       " 0.3080  | 0.6825  | 0.0096  |"
      ]
     },
     "execution_count": 50,
     "metadata": {},
     "output_type": "execute_result"
    }
   ],
   "source": [
    "ie.setEvidence({'sepal width (cm)':'(2.7, 2.9]', 'sepal length (cm)': '(5.0, 5.4]'})\n",
    "ie.makeInference()\n",
    "ie.posterior(\"class of iris\")"
   ]
  },
  {
   "cell_type": "code",
   "execution_count": null,
   "id": "1253f762",
   "metadata": {},
   "outputs": [],
   "source": []
  }
 ],
 "metadata": {
  "kernelspec": {
   "display_name": "Python 3 (ipykernel)",
   "language": "python",
   "name": "python3"
  },
  "language_info": {
   "codemirror_mode": {
    "name": "ipython",
    "version": 3
   },
   "file_extension": ".py",
   "mimetype": "text/x-python",
   "name": "python",
   "nbconvert_exporter": "python",
   "pygments_lexer": "ipython3",
   "version": "3.7.12"
  }
 },
 "nbformat": 4,
 "nbformat_minor": 5
}
