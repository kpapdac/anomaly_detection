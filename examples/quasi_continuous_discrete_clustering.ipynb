{
 "cells": [
  {
   "cell_type": "code",
   "execution_count": 3,
   "id": "f9c41cdf",
   "metadata": {},
   "outputs": [],
   "source": [
    "from anomaly_detection import detect_anomaly, synthetic_data\n",
    "from pylab import *\n",
    "import matplotlib.pyplot as plt\n",
    "\n",
    "import pyAgrum as gum\n",
    "import pyAgrum.lib.notebook as gnb\n",
    "import pandas as pd\n",
    "import numpy as np"
   ]
  },
  {
   "cell_type": "markdown",
   "id": "115360f1",
   "metadata": {},
   "source": [
    "Import synthetic data"
   ]
  },
  {
   "cell_type": "code",
   "execution_count": 39,
   "id": "a1b74e00",
   "metadata": {},
   "outputs": [],
   "source": [
    "n_cluster = 5\n",
    "n_features = 2\n",
    "mean = np.array([[-2,  2, -1,  0,  0],\n",
    "        [-1,  1,  1,  2, -1]])\n",
    "cov = np.repeat([0.01*np.ones([n_features,n_features])], n_cluster).reshape(n_features, n_features, n_cluster)"
   ]
  },
  {
   "cell_type": "code",
   "execution_count": 40,
   "id": "0a758d96",
   "metadata": {},
   "outputs": [
    {
     "data": {
      "text/plain": [
       "((2, 2, 5), (2, 5))"
      ]
     },
     "execution_count": 40,
     "metadata": {},
     "output_type": "execute_result"
    }
   ],
   "source": [
    "cov.shape, mean.shape"
   ]
  },
  {
   "cell_type": "code",
   "execution_count": 41,
   "id": "ee7592ca",
   "metadata": {},
   "outputs": [],
   "source": [
    "data = synthetic_data.generateClusters(n_cluster, mean, cov, \\\n",
    "            n_features)"
   ]
  },
  {
   "cell_type": "code",
   "execution_count": 43,
   "id": "d678d1ad",
   "metadata": {},
   "outputs": [],
   "source": [
    "X, y = data.generate_data()"
   ]
  },
  {
   "cell_type": "code",
   "execution_count": 59,
   "id": "dfbe7301",
   "metadata": {},
   "outputs": [],
   "source": [
    "X_ = np.hstack(X).T\n",
    "y_ = np.hstack(y).reshape(-1,1)\n",
    "data_arr = np.concatenate([X_,y_], axis=1)\n",
    "data_df = pd.DataFrame(data_arr, columns=['f1','f2','cl'])\n",
    "data_df.cl = data_df.cl.astype(int)"
   ]
  },
  {
   "cell_type": "markdown",
   "id": "238414e3",
   "metadata": {},
   "source": [
    "Discretization"
   ]
  },
  {
   "cell_type": "code",
   "execution_count": 60,
   "id": "b291cb6e",
   "metadata": {},
   "outputs": [
    {
     "data": {
      "text/html": [
       "<div>\n",
       "<style scoped>\n",
       "    .dataframe tbody tr th:only-of-type {\n",
       "        vertical-align: middle;\n",
       "    }\n",
       "\n",
       "    .dataframe tbody tr th {\n",
       "        vertical-align: top;\n",
       "    }\n",
       "\n",
       "    .dataframe thead th {\n",
       "        text-align: right;\n",
       "    }\n",
       "</style>\n",
       "<table border=\"1\" class=\"dataframe\">\n",
       "  <thead>\n",
       "    <tr style=\"text-align: right;\">\n",
       "      <th></th>\n",
       "      <th>f1</th>\n",
       "      <th>f2</th>\n",
       "      <th>cl</th>\n",
       "    </tr>\n",
       "  </thead>\n",
       "  <tbody>\n",
       "    <tr>\n",
       "      <th>0</th>\n",
       "      <td>(-2.291, -1.91]</td>\n",
       "      <td>(-1.017, -0.908]</td>\n",
       "      <td>0</td>\n",
       "    </tr>\n",
       "    <tr>\n",
       "      <th>1</th>\n",
       "      <td>(0.0529, 1.889]</td>\n",
       "      <td>(-0.908, 0.916]</td>\n",
       "      <td>1</td>\n",
       "    </tr>\n",
       "    <tr>\n",
       "      <th>2</th>\n",
       "      <td>(-0.97, -0.0547]</td>\n",
       "      <td>(1.032, 1.907]</td>\n",
       "      <td>2</td>\n",
       "    </tr>\n",
       "    <tr>\n",
       "      <th>3</th>\n",
       "      <td>(-0.0547, 0.0529]</td>\n",
       "      <td>(1.907, 2.305]</td>\n",
       "      <td>3</td>\n",
       "    </tr>\n",
       "    <tr>\n",
       "      <th>4</th>\n",
       "      <td>(-0.0547, 0.0529]</td>\n",
       "      <td>(-1.017, -0.908]</td>\n",
       "      <td>4</td>\n",
       "    </tr>\n",
       "  </tbody>\n",
       "</table>\n",
       "</div>"
      ],
      "text/plain": [
       "                  f1                f2  cl\n",
       "0    (-2.291, -1.91]  (-1.017, -0.908]   0\n",
       "1    (0.0529, 1.889]   (-0.908, 0.916]   1\n",
       "2   (-0.97, -0.0547]    (1.032, 1.907]   2\n",
       "3  (-0.0547, 0.0529]    (1.907, 2.305]   3\n",
       "4  (-0.0547, 0.0529]  (-1.017, -0.908]   4"
      ]
     },
     "execution_count": 60,
     "metadata": {},
     "output_type": "execute_result"
    }
   ],
   "source": [
    "disc=6 # Disc(retization) may be between 2 and 9\n",
    "r=np.array(range(disc+1))/(1.0*disc)\n",
    "\n",
    "# quantiles are building using pandas.qcut\n",
    "# The \"class\" column is just copied.\n",
    "l=[]\n",
    "for col in data_df.columns.values:\n",
    "    if col!=\"cl\":\n",
    "        l.append(pd.DataFrame(pd.qcut(data_df[col],r),columns=[col]))\n",
    "    else:\n",
    "        l.append(pd.DataFrame(data_df[col],columns=[col]))\n",
    "treated=pd.concat(l, join='outer', axis=1)\n",
    "\n",
    "treated.to_csv(\"clTreated.csv\",index=False)\n",
    "treated.head()"
   ]
  },
  {
   "cell_type": "code",
   "execution_count": 61,
   "id": "25707eed",
   "metadata": {},
   "outputs": [
    {
     "name": "stdout",
     "output_type": "stream",
     "text": [
      "Learned in 0.29543ms\n"
     ]
    },
    {
     "data": {
      "image/svg+xml": [
       "<svg xmlns=\"http://www.w3.org/2000/svg\" xmlns:xlink=\"http://www.w3.org/1999/xlink\" width=\"89pt\" height=\"188pt\" viewBox=\"0.00 0.00 89.00 188.00\">\n",
       "<g id=\"graph0\" class=\"graph\" transform=\"scale(1 1) rotate(0) translate(4 184)\">\n",
       "<title>G</title>\n",
       "<!-- f1 -->\n",
       "<g id=\"node1\" class=\"node\">\n",
       "<title>f1</title>\n",
       "<g id=\"a_node1\"><a xlink:title=\"(0) f1\">\n",
       "<ellipse fill=\"#404040\" stroke=\"#000000\" cx=\"27\" cy=\"-90\" rx=\"27\" ry=\"18\"/>\n",
       "<text text-anchor=\"middle\" x=\"27\" y=\"-86.3\" font-family=\"Times,serif\" font-size=\"14.00\" fill=\"#ffffff\">f1</text>\n",
       "</a>\n",
       "</g>\n",
       "</g>\n",
       "<!-- f2 -->\n",
       "<g id=\"node2\" class=\"node\">\n",
       "<title>f2</title>\n",
       "<g id=\"a_node2\"><a xlink:title=\"(1) f2\">\n",
       "<ellipse fill=\"#404040\" stroke=\"#000000\" cx=\"54\" cy=\"-18\" rx=\"27\" ry=\"18\"/>\n",
       "<text text-anchor=\"middle\" x=\"54\" y=\"-14.3\" font-family=\"Times,serif\" font-size=\"14.00\" fill=\"#ffffff\">f2</text>\n",
       "</a>\n",
       "</g>\n",
       "</g>\n",
       "<!-- f1&#45;&gt;f2 -->\n",
       "<g id=\"edge1\" class=\"edge\">\n",
       "<title>f1-&gt;f2</title>\n",
       "<g id=\"a_edge1\"><a xlink:title=\"0 → 1\">\n",
       "<path fill=\"none\" stroke=\"#4a4a4a\" d=\"M33.6742,-72.2022C36.7476,-64.0064 40.4616,-54.1024 43.8695,-45.0145\"/>\n",
       "<polygon fill=\"#4a4a4a\" stroke=\"#4a4a4a\" points=\"47.1685,-46.1853 47.4026,-35.593 40.6142,-43.7274 47.1685,-46.1853\"/>\n",
       "</a>\n",
       "</g>\n",
       "</g>\n",
       "<!-- cl -->\n",
       "<g id=\"node3\" class=\"node\">\n",
       "<title>cl</title>\n",
       "<g id=\"a_node3\"><a xlink:title=\"(2) cl\">\n",
       "<ellipse fill=\"#404040\" stroke=\"#000000\" cx=\"54\" cy=\"-162\" rx=\"27\" ry=\"18\"/>\n",
       "<text text-anchor=\"middle\" x=\"54\" y=\"-158.3\" font-family=\"Times,serif\" font-size=\"14.00\" fill=\"#ffffff\">cl</text>\n",
       "</a>\n",
       "</g>\n",
       "</g>\n",
       "<!-- cl&#45;&gt;f1 -->\n",
       "<g id=\"edge2\" class=\"edge\">\n",
       "<title>cl-&gt;f1</title>\n",
       "<g id=\"a_edge2\"><a xlink:title=\"2 → 0\">\n",
       "<path fill=\"none\" stroke=\"#4a4a4a\" d=\"M47.3258,-144.2022C44.2524,-136.0064 40.5384,-126.1024 37.1305,-117.0145\"/>\n",
       "<polygon fill=\"#4a4a4a\" stroke=\"#4a4a4a\" points=\"40.3858,-115.7274 33.5974,-107.593 33.8315,-118.1853 40.3858,-115.7274\"/>\n",
       "</a>\n",
       "</g>\n",
       "</g>\n",
       "<!-- cl&#45;&gt;f2 -->\n",
       "<g id=\"edge3\" class=\"edge\">\n",
       "<title>cl-&gt;f2</title>\n",
       "<g id=\"a_edge3\"><a xlink:title=\"2 → 1\">\n",
       "<path fill=\"none\" stroke=\"#4a4a4a\" d=\"M57.7474,-144.0931C59.7466,-133.6241 61.9966,-120.1241 63,-108 64.3197,-92.0545 64.3197,-87.9455 63,-72 62.2945,-63.4753 60.9727,-54.2703 59.5551,-45.917\"/>\n",
       "<polygon fill=\"#4a4a4a\" stroke=\"#4a4a4a\" points=\"62.9689,-45.1258 57.7474,-35.9069 56.0803,-46.3698 62.9689,-45.1258\"/>\n",
       "</a>\n",
       "</g>\n",
       "</g>\n",
       "</g>\n",
       "</svg>"
      ],
      "text/plain": [
       "<IPython.core.display.SVG object>"
      ]
     },
     "metadata": {},
     "output_type": "display_data"
    }
   ],
   "source": [
    "learner=gum.BNLearner(\"clTreated.csv\")\n",
    "learner.useLocalSearchWithTabuList()\n",
    "bn_cl=learner.learnBN()\n",
    "print(\"Learned in {0}ms\".format(1000*learner.currentTime()))\n",
    "gnb.showBN(bn_cl)"
   ]
  },
  {
   "cell_type": "code",
   "execution_count": 62,
   "id": "61ef136e",
   "metadata": {},
   "outputs": [
    {
     "data": {
      "text/html": [
       "<table style=\"border:1px solid black;\">\n",
       "<tr style='border:1px solid black;color:black;background-color:#808080'>\n",
       "      <th colspan='5'><center>cl</center></th></tr>\n",
       "<tr><th style='border:1px solid black;border-bottom-style: double;color:black;background-color:#BBBBBB'>\n",
       "      <center>0</center></th><th style='border:1px solid black;border-bottom-style: double;color:black;background-color:#BBBBBB'>\n",
       "      <center>1</center></th><th style='border:1px solid black;border-bottom-style: double;color:black;background-color:#BBBBBB'>\n",
       "      <center>2</center></th><th style='border:1px solid black;border-bottom-style: double;color:black;background-color:#BBBBBB'>\n",
       "      <center>3</center></th><th style='border:1px solid black;border-bottom-style: double;color:black;background-color:#BBBBBB'>\n",
       "      <center>4</center></th></tr>\n",
       "<tr><td style='color:black;background-color:#e59864;text-align:right;'>0.2000</td><td style='color:black;background-color:#e59864;text-align:right;'>0.2000</td><td style='color:black;background-color:#e59864;text-align:right;'>0.2000</td><td style='color:black;background-color:#e59864;text-align:right;'>0.2000</td><td style='color:black;background-color:#e59864;text-align:right;'>0.2000</td></tr>\n",
       "</table>"
      ],
      "text/plain": [
       "(pyAgrum.Potential<double>@0x55ab32c1e8e0) \n",
       "  cl                                             |\n",
       "0        |1        |2        |3        |4        |\n",
       "---------|---------|---------|---------|---------|\n",
       " 0.2000  | 0.2000  | 0.2000  | 0.2000  | 0.2000  |"
      ]
     },
     "execution_count": 62,
     "metadata": {},
     "output_type": "execute_result"
    }
   ],
   "source": [
    "bn_cl.cpt('cl')"
   ]
  },
  {
   "cell_type": "code",
   "execution_count": 66,
   "id": "eed776b1",
   "metadata": {},
   "outputs": [
    {
     "data": {
      "text/html": [
       "<table style=\"border:1px solid black;\">\n",
       "<tr><th colspan='1'></th>\n",
       "      <th colspan='6' style='border:1px solid black;color:black;background-color:#808080;'><center>f1</center>\n",
       "      </th></tr>\n",
       "<tr><th style='border:1px solid black;color:black;background-color:#808080'><center>cl</center></th><th style='border:1px solid black;border-bottom-style: double;color:black;background-color:#BBBBBB'>\n",
       "      <center>(-0.0547, 0.0529]</center></th><th style='border:1px solid black;border-bottom-style: double;color:black;background-color:#BBBBBB'>\n",
       "      <center>(-0.97, -0.0547]</center></th><th style='border:1px solid black;border-bottom-style: double;color:black;background-color:#BBBBBB'>\n",
       "      <center>(-1.91, -0.97]</center></th><th style='border:1px solid black;border-bottom-style: double;color:black;background-color:#BBBBBB'>\n",
       "      <center>(-2.291, -1.91]</center></th><th style='border:1px solid black;border-bottom-style: double;color:black;background-color:#BBBBBB'>\n",
       "      <center>(0.0529, 1.889]</center></th><th style='border:1px solid black;border-bottom-style: double;color:black;background-color:#BBBBBB'>\n",
       "      <center>(1.889, 2.249]</center></th></tr>\n",
       "<tr><th style='border:1px solid black;color:black;background-color:#BBBBBB'><center>0</center></th><td style='color:black;background-color:#fe7f64;text-align:right;'>0.0003</td><td style='color:black;background-color:#fe7f64;text-align:right;'>0.0003</td><td style='color:black;background-color:#ea9364;text-align:right;'>0.1600</td><td style='color:black;background-color:#93ea64;text-align:right;'>0.8387</td><td style='color:black;background-color:#fe7f64;text-align:right;'>0.0003</td><td style='color:black;background-color:#fe7f64;text-align:right;'>0.0003</td></tr>\n",
       "<tr><th style='border:1px solid black;color:black;background-color:#BBBBBB'><center>1</center></th><td style='color:black;background-color:#fe7f64;text-align:right;'>0.0003</td><td style='color:black;background-color:#fe7f64;text-align:right;'>0.0003</td><td style='color:black;background-color:#fe7f64;text-align:right;'>0.0003</td><td style='color:black;background-color:#fe7f64;text-align:right;'>0.0003</td><td style='color:black;background-color:#ea9364;text-align:right;'>0.1600</td><td style='color:black;background-color:#93ea64;text-align:right;'>0.8387</td></tr>\n",
       "<tr><th style='border:1px solid black;color:black;background-color:#BBBBBB'><center>2</center></th><td style='color:black;background-color:#fe7f64;text-align:right;'>0.0003</td><td style='color:black;background-color:#d4a964;text-align:right;'>0.3297</td><td style='color:black;background-color:#a9d464;text-align:right;'>0.6690</td><td style='color:black;background-color:#fe7f64;text-align:right;'>0.0003</td><td style='color:black;background-color:#fe7f64;text-align:right;'>0.0003</td><td style='color:black;background-color:#fe7f64;text-align:right;'>0.0003</td></tr>\n",
       "<tr><th style='border:1px solid black;color:black;background-color:#BBBBBB'><center>3</center></th><td style='color:black;background-color:#c8b564;text-align:right;'>0.4295</td><td style='color:black;background-color:#e29b64;text-align:right;'>0.2199</td><td style='color:black;background-color:#fe7f64;text-align:right;'>0.0003</td><td style='color:black;background-color:#fe7f64;text-align:right;'>0.0003</td><td style='color:black;background-color:#d2ab64;text-align:right;'>0.3496</td><td style='color:black;background-color:#fe7f64;text-align:right;'>0.0003</td></tr>\n",
       "<tr><th style='border:1px solid black;color:black;background-color:#BBBBBB'><center>4</center></th><td style='color:black;background-color:#cbb264;text-align:right;'>0.3995</td><td style='color:black;background-color:#dba264;text-align:right;'>0.2798</td><td style='color:black;background-color:#fe7f64;text-align:right;'>0.0003</td><td style='color:black;background-color:#fe7f64;text-align:right;'>0.0003</td><td style='color:black;background-color:#d6a764;text-align:right;'>0.3197</td><td style='color:black;background-color:#fe7f64;text-align:right;'>0.0003</td></tr>\n",
       "</table>"
      ],
      "text/plain": [
       "(pyAgrum.Potential<double>@0x55ab328977f0) \n",
       "      ||  f1                                                       |\n",
       "cl    ||(-0.0547,|(-0.97, -|(-1.91, -|(-2.291, |(0.0529, |(1.889, 2|\n",
       "------||---------|---------|---------|---------|---------|---------|\n",
       "0     || 0.0003  | 0.0003  | 0.1600  | 0.8387  | 0.0003  | 0.0003  |\n",
       "1     || 0.0003  | 0.0003  | 0.0003  | 0.0003  | 0.1600  | 0.8387  |\n",
       "2     || 0.0003  | 0.3297  | 0.6690  | 0.0003  | 0.0003  | 0.0003  |\n",
       "3     || 0.4295  | 0.2199  | 0.0003  | 0.0003  | 0.3496  | 0.0003  |\n",
       "4     || 0.3995  | 0.2798  | 0.0003  | 0.0003  | 0.3197  | 0.0003  |"
      ]
     },
     "execution_count": 66,
     "metadata": {},
     "output_type": "execute_result"
    }
   ],
   "source": [
    "bn_cl.cpt('f1')"
   ]
  },
  {
   "cell_type": "code",
   "execution_count": 65,
   "id": "c97b088d",
   "metadata": {},
   "outputs": [
    {
     "data": {
      "text/html": [
       "<table style=\"border:1px solid black;\">\n",
       "<tr style='border:1px solid black;color:black;background-color:#808080'>\n",
       "      <th colspan='5'><center>cl</center></th></tr>\n",
       "<tr><th style='border:1px solid black;border-bottom-style: double;color:black;background-color:#BBBBBB'>\n",
       "      <center>0</center></th><th style='border:1px solid black;border-bottom-style: double;color:black;background-color:#BBBBBB'>\n",
       "      <center>1</center></th><th style='border:1px solid black;border-bottom-style: double;color:black;background-color:#BBBBBB'>\n",
       "      <center>2</center></th><th style='border:1px solid black;border-bottom-style: double;color:black;background-color:#BBBBBB'>\n",
       "      <center>3</center></th><th style='border:1px solid black;border-bottom-style: double;color:black;background-color:#BBBBBB'>\n",
       "      <center>4</center></th></tr>\n",
       "<tr><td style='color:black;background-color:#81fc64;text-align:right;'>0.9784</td><td style='color:black;background-color:#fe7f64;text-align:right;'>0.0054</td><td style='color:black;background-color:#fe7f64;text-align:right;'>0.0054</td><td style='color:black;background-color:#fe7f64;text-align:right;'>0.0054</td><td style='color:black;background-color:#fe7f64;text-align:right;'>0.0054</td></tr>\n",
       "</table>"
      ],
      "text/plain": [
       "(pyAgrum.Potential<double>@0x55ab32f6b0a0) \n",
       "  cl                                             |\n",
       "0        |1        |2        |3        |4        |\n",
       "---------|---------|---------|---------|---------|\n",
       " 0.9784  | 0.0054  | 0.0054  | 0.0054  | 0.0054  |"
      ]
     },
     "execution_count": 65,
     "metadata": {},
     "output_type": "execute_result"
    }
   ],
   "source": [
    "ie=gum.LazyPropagation(bn_cl)\n",
    "ie.setEvidence({'f1':'(-1.91, -0.97]', 'f2': '(-1.017, -0.908]'})\n",
    "ie.makeInference()\n",
    "ie.posterior(\"cl\")"
   ]
  },
  {
   "cell_type": "markdown",
   "id": "9991a957",
   "metadata": {},
   "source": [
    "Quasi Continuous"
   ]
  },
  {
   "cell_type": "code",
   "execution_count": 68,
   "id": "27049138",
   "metadata": {},
   "outputs": [
    {
     "name": "stdout",
     "output_type": "stream",
     "text": [
      "BN{nodes: 2, arcs: 1, domainSize: 600, dim: 599, mem: 4Ko 720o}\n"
     ]
    },
    {
     "data": {
      "image/svg+xml": [
       "<svg xmlns=\"http://www.w3.org/2000/svg\" xmlns:xlink=\"http://www.w3.org/1999/xlink\" width=\"62pt\" height=\"116pt\" viewBox=\"0.00 0.00 62.00 116.00\">\n",
       "<g id=\"graph0\" class=\"graph\" transform=\"scale(1 1) rotate(0) translate(4 112)\">\n",
       "<title>G</title>\n",
       "<!-- B -->\n",
       "<g id=\"node1\" class=\"node\">\n",
       "<title>B</title>\n",
       "<g id=\"a_node1\"><a xlink:title=\"(1) B\">\n",
       "<ellipse fill=\"#404040\" stroke=\"#000000\" cx=\"27\" cy=\"-18\" rx=\"27\" ry=\"18\"/>\n",
       "<text text-anchor=\"middle\" x=\"27\" y=\"-14.3\" font-family=\"Times,serif\" font-size=\"14.00\" fill=\"#ffffff\">B</text>\n",
       "</a>\n",
       "</g>\n",
       "</g>\n",
       "<!-- A -->\n",
       "<g id=\"node2\" class=\"node\">\n",
       "<title>A</title>\n",
       "<g id=\"a_node2\"><a xlink:title=\"(0) A\">\n",
       "<ellipse fill=\"#404040\" stroke=\"#000000\" cx=\"27\" cy=\"-90\" rx=\"27\" ry=\"18\"/>\n",
       "<text text-anchor=\"middle\" x=\"27\" y=\"-86.3\" font-family=\"Times,serif\" font-size=\"14.00\" fill=\"#ffffff\">A</text>\n",
       "</a>\n",
       "</g>\n",
       "</g>\n",
       "<!-- A&#45;&gt;B -->\n",
       "<g id=\"edge1\" class=\"edge\">\n",
       "<title>A-&gt;B</title>\n",
       "<g id=\"a_edge1\"><a xlink:title=\"0 → 1\">\n",
       "<path fill=\"none\" stroke=\"#4a4a4a\" d=\"M27,-71.8314C27,-64.131 27,-54.9743 27,-46.4166\"/>\n",
       "<polygon fill=\"#4a4a4a\" stroke=\"#4a4a4a\" points=\"30.5001,-46.4132 27,-36.4133 23.5001,-46.4133 30.5001,-46.4132\"/>\n",
       "</a>\n",
       "</g>\n",
       "</g>\n",
       "</g>\n",
       "</svg>"
      ],
      "text/plain": [
       "<IPython.core.display.SVG object>"
      ]
     },
     "metadata": {},
     "output_type": "display_data"
    }
   ],
   "source": [
    "minB,maxB=-3,3\n",
    "minC,maxC=4,14\n",
    "NB=300\n",
    "bn=gum.BayesNet(\"Quasi-Continuous\")\n",
    "bn.add(gum.LabelizedVariable(\"A\",\"A binary variable\",2))\n",
    "bn.add(gum.NumericalDiscreteVariable(\"B\",\"A range variable\",minB,maxB,NB))\n",
    "bn.addArc(\"A\",\"B\")\n",
    "print(bn)\n",
    "gnb.showBN(bn)"
   ]
  },
  {
   "cell_type": "code",
   "execution_count": 69,
   "id": "706633a5",
   "metadata": {},
   "outputs": [
    {
     "data": {
      "text/html": [
       "\n",
       "      <style>\n",
       "      .floating-box {\n",
       "      display: inline-block;\n",
       "      margin: 7px;\n",
       "      padding : 3px;\n",
       "      border: 0px solid transparent;  \n",
       "      valign:middle;\n",
       "      background-color: transparent;\n",
       "      }\n",
       "      </style>\n",
       "      <div class=\"floating-box\"><img src=\"data:image/png;base64,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\n",
       "\"><br><center><small><em>P(B|A=0)</em></small></center></div><div class=\"floating-box\"><img src=\"data:image/png;base64,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\n",
       "\"><br><center><small><em>P(B|A=1)</em></small></center></div>"
      ],
      "text/plain": [
       "<IPython.core.display.HTML object>"
      ]
     },
     "metadata": {},
     "output_type": "display_data"
    }
   ],
   "source": [
    "def normalize(rv,vmin,vmax,size):\n",
    "    pdf=rv.pdf(linspace(vmin,vmax,size))\n",
    "    return (pdf/sum(pdf))\n",
    "\n",
    "from scipy.stats import norm,genhyperbolic\n",
    "p, a, b = 0.5, 1.5, -0.7\n",
    "bn.cpt(\"B\")[{'A':0}]=normalize(norm(2.41),minB,maxB,NB)\n",
    "bn.cpt(\"B\")[{'A':1}]=normalize(genhyperbolic(p,a,b),minB,maxB,NB)\n",
    "gnb.flow.clear()\n",
    "gnb.flow.add(gnb.getProba(bn.cpt(\"B\").extract({\"A\":0})),caption=\"P(B|A=0)\")\n",
    "gnb.flow.add(gnb.getProba(bn.cpt(\"B\").extract({\"A\":1})),caption=\"P(B|A=1)\")\n",
    "gnb.flow.display()"
   ]
  },
  {
   "cell_type": "code",
   "execution_count": null,
   "id": "1f7d9011",
   "metadata": {},
   "outputs": [],
   "source": []
  }
 ],
 "metadata": {
  "kernelspec": {
   "display_name": "arg_env",
   "language": "python",
   "name": "agr_env"
  },
  "language_info": {
   "codemirror_mode": {
    "name": "ipython",
    "version": 3
   },
   "file_extension": ".py",
   "mimetype": "text/x-python",
   "name": "python",
   "nbconvert_exporter": "python",
   "pygments_lexer": "ipython3",
   "version": "3.8.0"
  }
 },
 "nbformat": 4,
 "nbformat_minor": 5
}
